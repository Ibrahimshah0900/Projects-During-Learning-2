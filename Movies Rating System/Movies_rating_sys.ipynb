{
 "cells": [
  {
   "cell_type": "code",
   "execution_count": 1,
   "id": "f327a2bc-7027-47b8-879e-d6484e68d5be",
   "metadata": {},
   "outputs": [],
   "source": [
    "import csv "
   ]
  },
  {
   "cell_type": "code",
   "execution_count": 3,
   "id": "0110673a-a82a-432d-9d2c-2e980d75265e",
   "metadata": {},
   "outputs": [],
   "source": [
    "#this will be the name of the file \n",
    "file_path='movie_ratings.csv'"
   ]
  },
  {
   "cell_type": "code",
   "execution_count": 5,
   "id": "700d7c0c-ed8a-4ed0-baa8-3fd40c096623",
   "metadata": {},
   "outputs": [],
   "source": [
    "import os  # Import this to check for file existence\n",
    "\n",
    "def initialize_csv(file_path):\n",
    "    # Check if the file already exists\n",
    "    if not os.path.exists(file_path):\n",
    "        with open(file_path, mode='w', newline='') as file:\n",
    "            writer = csv.writer(file)\n",
    "            writer.writerow([\"Movie Name\", \"User Name\", \"Rating\"])  # Write headers\n",
    "        print(f\"File '{file_path}' created successfully!\")\n",
    "    else:\n",
    "        print(f\"File '{file_path}' already exists.\")\n"
   ]
  },
  {
   "cell_type": "code",
   "execution_count": 7,
   "id": "72a6ea19-a356-4d71-b8a7-ff7df82ace1a",
   "metadata": {},
   "outputs": [],
   "source": [
    "#Add movies rating to a csv file \n",
    "def add_rating(file_path,movie_name,user_name,rating):\n",
    "    try:\n",
    "        with open(file_path, mode='a', newline='') as file:\n",
    "            writer = csv.writer(file)\n",
    "            writer.writerow([movie_name, user_name, rating])\n",
    "        print(\"Rating added successfully!\")\n",
    "    except exception as e:\n",
    "        print(f\"Error: as{e}\")\n",
    "        \n",
    "    "
   ]
  },
  {
   "cell_type": "code",
   "execution_count": 27,
   "id": "cda9602b-36d8-44bd-a6ee-ea4faeb75d28",
   "metadata": {},
   "outputs": [],
   "source": [
    "# this will calculate the avrg rating of the movies \n",
    "def calculate_average_ratings(file_path):\n",
    "    movie_ratings = {}\n",
    "    with open(file_path, mode='r') as file:\n",
    "        reader = csv.DictReader(file)\n",
    "        for row in reader:\n",
    "            movie = row['Movie Name']\n",
    "            rating = float(row['Rating'])\n",
    "            if movie in movie_ratings:\n",
    "                movie_ratings[movie].append(rating)\n",
    "            else:\n",
    "                movie_ratings[movie] = [rating]\n",
    "    \n",
    "    averages = {movie: sum(ratings) / len(ratings) for movie, ratings in movie_ratings.items()}\n",
    "    return averages\n"
   ]
  },
  {
   "cell_type": "code",
   "execution_count": 40,
   "id": "84ac0d65-3443-416b-a9e2-14612e19f4ee",
   "metadata": {},
   "outputs": [],
   "source": [
    "# this will find a top rated movie \n",
    "def find_top_rated_movie(file_path):\n",
    "    averages = calculate_average_ratings(file_path)\n",
    "    top_movie = max(averages, key=averages.get)\n",
    "    return top_movie, averages[top_movie]\n",
    "\n",
    "\n",
    "\n",
    "    "
   ]
  },
  {
   "cell_type": "code",
   "execution_count": 20,
   "id": "dc2010dd-b485-4e38-a969-63d1127a58d2",
   "metadata": {},
   "outputs": [],
   "source": [
    "\n",
    "# this will display all the movies with their average rating \n",
    "def display_average_ratings(file_path):\n",
    "    averages = calculate_average_ratings(file_path)\n",
    "    print(\"\\nAverage Ratings:\")\n",
    "    for movie, avg in averages.items():\n",
    "        print(f\"{movie}: {avg:.2f}\")\n",
    "\n",
    "\n"
   ]
  },
  {
   "cell_type": "code",
   "execution_count": 42,
   "id": "f45d40a8-40c1-42e1-8b19-36808f4ac5ae",
   "metadata": {},
   "outputs": [
    {
     "name": "stdout",
     "output_type": "stream",
     "text": [
      "File 'movie_ratings.csv' already exists.\n",
      "\n",
      "--- Movie Ratings System ---\n",
      "1. Add a Rating\n",
      "2. View Average Ratings\n",
      "3. Find the Top-Rated Movie\n",
      "4. Exit\n"
     ]
    },
    {
     "name": "stdin",
     "output_type": "stream",
     "text": [
      " Enter your choice 3\n"
     ]
    },
    {
     "name": "stdout",
     "output_type": "stream",
     "text": [
      "\n",
      "Top-Rated movie:harry potter with an avergae rating of 4.00\n",
      "\n",
      "--- Movie Ratings System ---\n",
      "1. Add a Rating\n",
      "2. View Average Ratings\n",
      "3. Find the Top-Rated Movie\n",
      "4. Exit\n"
     ]
    },
    {
     "name": "stdin",
     "output_type": "stream",
     "text": [
      " Enter your choice 4\n"
     ]
    },
    {
     "name": "stdout",
     "output_type": "stream",
     "text": [
      "Exiting the movie rating system. Goodbye!\n"
     ]
    }
   ],
   "source": [
    "# Menu-driven interface\n",
    "def movie_ratings_system():\n",
    "    initialize_csv(file_path)\n",
    "    while True:\n",
    "        print(\"\\n--- Movie Ratings System ---\")\n",
    "        print(\"1. Add a Rating\")\n",
    "        print(\"2. View Average Ratings\")\n",
    "        print(\"3. Find the Top-Rated Movie\")\n",
    "        print(\"4. Exit\")\n",
    "\n",
    "\n",
    "        choice=input(\" Enter your choice\")\n",
    "\n",
    "        if choice== '1':\n",
    "            movie_name=input(\"Enter the name of movie:\")\n",
    "            user_name=input(\"Enter your user name\")\n",
    "            try:\n",
    "                rating=float(input(\" Enter your rating(1-5):\"))\n",
    "                if 1<=rating<=5:\n",
    "                    add_rating(file_path,movie_name,user_name,rating)\n",
    "                else:\n",
    "                    print(\"Rating must be between 1-5\")\n",
    "            except ValueError:\n",
    "                print(\"Invalid input! Rating must be a number\")\n",
    "\n",
    "        elif choice=='2':\n",
    "            display_average_ratings(file_path)\n",
    "        elif choice=='3':\n",
    "            try:\n",
    "                top_movie,top_rating=find_top_rated_movie(file_path)\n",
    "                print(f\"\\nTop-Rated movie:{top_movie} with an avergae rating of {top_rating:.2f}\")\n",
    "            except ValueError:\n",
    "                print(\" No movie is availabe to determine the top rated movie\")\n",
    "\n",
    "        elif choice=='4':\n",
    "            print(\"Exiting the movie rating system. Goodbye!\")\n",
    "            break\n",
    "\n",
    "        else:\n",
    "            print(\"invalid choice! please select a valid option.\")\n",
    "\n",
    "\n",
    "\n",
    "# run the system\n",
    "movie_ratings_system()\n",
    "                "
   ]
  },
  {
   "cell_type": "code",
   "execution_count": null,
   "id": "737a8df8-4f15-43c3-b3ce-2daaa399bd76",
   "metadata": {},
   "outputs": [],
   "source": []
  }
 ],
 "metadata": {
  "kernelspec": {
   "display_name": "Python 3 (ipykernel)",
   "language": "python",
   "name": "python3"
  },
  "language_info": {
   "codemirror_mode": {
    "name": "ipython",
    "version": 3
   },
   "file_extension": ".py",
   "mimetype": "text/x-python",
   "name": "python",
   "nbconvert_exporter": "python",
   "pygments_lexer": "ipython3",
   "version": "3.12.4"
  }
 },
 "nbformat": 4,
 "nbformat_minor": 5
}
