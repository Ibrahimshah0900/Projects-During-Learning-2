{
 "cells": [
  {
   "cell_type": "code",
   "execution_count": null,
   "id": "28b220cf-2bb3-4456-8da2-ee70f1ffaaf7",
   "metadata": {},
   "outputs": [
    {
     "name": "stdout",
     "output_type": "stream",
     "text": [
      "\n",
      "Employee Attendance Tracker\n",
      "1. Add Employee\n",
      "2. Add Attendance\n",
      "3. Generate Attendance Report\n",
      "4. Department-Wise Report\n",
      "5. Generate Attendance Graph\n",
      "6. Exit\n"
     ]
    },
    {
     "name": "stdin",
     "output_type": "stream",
     "text": [
      "Enter your choice:  1\n",
      "Enter Employee ID:  8375\n",
      "Enter Name:  fin aleen\n",
      "Enter Department:  AI\n"
     ]
    },
    {
     "name": "stdout",
     "output_type": "stream",
     "text": [
      "Employee added successfully.\n",
      "\n",
      "Employee Attendance Tracker\n",
      "1. Add Employee\n",
      "2. Add Attendance\n",
      "3. Generate Attendance Report\n",
      "4. Department-Wise Report\n",
      "5. Generate Attendance Graph\n",
      "6. Exit\n"
     ]
    },
    {
     "name": "stdin",
     "output_type": "stream",
     "text": [
      "Enter your choice:  2\n",
      "Enter Date (YYYY-MM-DD):  2024-09-09\n",
      "Enter Employee ID:  8375\n",
      "Enter Status (present/absent):  present\n"
     ]
    },
    {
     "name": "stdout",
     "output_type": "stream",
     "text": [
      "Attendance recorded successfully.\n",
      "\n",
      "Employee Attendance Tracker\n",
      "1. Add Employee\n",
      "2. Add Attendance\n",
      "3. Generate Attendance Report\n",
      "4. Department-Wise Report\n",
      "5. Generate Attendance Graph\n",
      "6. Exit\n"
     ]
    },
    {
     "name": "stdin",
     "output_type": "stream",
     "text": [
      "Enter your choice:  3\n"
     ]
    },
    {
     "name": "stdout",
     "output_type": "stream",
     "text": [
      "\n",
      "Attendance Report:\n",
      "Employee ID: 8375, Total Days Present: 1\n",
      "\n",
      "Employee Attendance Tracker\n",
      "1. Add Employee\n",
      "2. Add Attendance\n",
      "3. Generate Attendance Report\n",
      "4. Department-Wise Report\n",
      "5. Generate Attendance Graph\n",
      "6. Exit\n"
     ]
    },
    {
     "name": "stdin",
     "output_type": "stream",
     "text": [
      "Enter your choice:  4\n"
     ]
    },
    {
     "name": "stdout",
     "output_type": "stream",
     "text": [
      "\n",
      "Department-Wise Attendance Report:\n",
      "Department: AI, Total Days Present: 1\n",
      "\n",
      "Employee Attendance Tracker\n",
      "1. Add Employee\n",
      "2. Add Attendance\n",
      "3. Generate Attendance Report\n",
      "4. Department-Wise Report\n",
      "5. Generate Attendance Graph\n",
      "6. Exit\n"
     ]
    },
    {
     "name": "stdin",
     "output_type": "stream",
     "text": [
      "Enter your choice:  5\n"
     ]
    },
    {
     "data": {
      "image/png": "[encoded data removed]",
      "text/plain": [
       "<Figure size 640x480 with 1 Axes>"
      ]
     },
     "metadata": {},
     "output_type": "display_data"
    },
    {
     "name": "stdout",
     "output_type": "stream",
     "text": [
      "\n",
      "Employee Attendance Tracker\n",
      "1. Add Employee\n",
      "2. Add Attendance\n",
      "3. Generate Attendance Report\n",
      "4. Department-Wise Report\n",
      "5. Generate Attendance Graph\n",
      "6. Exit\n"
     ]
    },
    {
     "name": "stdin",
     "output_type": "stream",
     "text": [
      "Enter your choice:  1\n",
      "Enter Employee ID:  8376\n",
      "Enter Name:  fin bud\n",
      "Enter Department:  AI\n"
     ]
    },
    {
     "name": "stdout",
     "output_type": "stream",
     "text": [
      "Employee added successfully.\n",
      "\n",
      "Employee Attendance Tracker\n",
      "1. Add Employee\n",
      "2. Add Attendance\n",
      "3. Generate Attendance Report\n",
      "4. Department-Wise Report\n",
      "5. Generate Attendance Graph\n",
      "6. Exit\n"
     ]
    },
    {
     "name": "stdin",
     "output_type": "stream",
     "text": [
      "Enter your choice:  2\n",
      "Enter Date (YYYY-MM-DD):  2024-09-09\n",
      "Enter Employee ID:  8376\n",
      "Enter Status (present/absent):  present\n"
     ]
    },
    {
     "name": "stdout",
     "output_type": "stream",
     "text": [
      "Attendance recorded successfully.\n",
      "\n",
      "Employee Attendance Tracker\n",
      "1. Add Employee\n",
      "2. Add Attendance\n",
      "3. Generate Attendance Report\n",
      "4. Department-Wise Report\n",
      "5. Generate Attendance Graph\n",
      "6. Exit\n"
     ]
    },
    {
     "name": "stdin",
     "output_type": "stream",
     "text": [
      "Enter your choice:  1\n",
      "Enter Employee ID:  8377\n",
      "Enter Name:  fingud\n",
      "Enter Department:  AI\n"
     ]
    },
    {
     "name": "stdout",
     "output_type": "stream",
     "text": [
      "Employee added successfully.\n",
      "\n",
      "Employee Attendance Tracker\n",
      "1. Add Employee\n",
      "2. Add Attendance\n",
      "3. Generate Attendance Report\n",
      "4. Department-Wise Report\n",
      "5. Generate Attendance Graph\n",
      "6. Exit\n"
     ]
    },
    {
     "name": "stdin",
     "output_type": "stream",
     "text": [
      "Enter your choice:  2\n",
      "Enter Date (YYYY-MM-DD):  2024-09-09\n",
      "Enter Employee ID:  8377\n",
      "Enter Status (present/absent):  absent\n"
     ]
    },
    {
     "name": "stdout",
     "output_type": "stream",
     "text": [
      "Attendance recorded successfully.\n",
      "\n",
      "Employee Attendance Tracker\n",
      "1. Add Employee\n",
      "2. Add Attendance\n",
      "3. Generate Attendance Report\n",
      "4. Department-Wise Report\n",
      "5. Generate Attendance Graph\n",
      "6. Exit\n"
     ]
    },
    {
     "name": "stdin",
     "output_type": "stream",
     "text": [
      "Enter your choice:  3\n"
     ]
    },
    {
     "name": "stdout",
     "output_type": "stream",
     "text": [
      "\n",
      "Attendance Report:\n",
      "Employee ID: 8375, Total Days Present: 1\n",
      "Employee ID: 8376, Total Days Present: 1\n",
      "\n",
      "Employee Attendance Tracker\n",
      "1. Add Employee\n",
      "2. Add Attendance\n",
      "3. Generate Attendance Report\n",
      "4. Department-Wise Report\n",
      "5. Generate Attendance Graph\n",
      "6. Exit\n"
     ]
    },
    {
     "name": "stdin",
     "output_type": "stream",
     "text": [
      "Enter your choice:  4\n"
     ]
    },
    {
     "name": "stdout",
     "output_type": "stream",
     "text": [
      "\n",
      "Department-Wise Attendance Report:\n",
      "Department: AI, Total Days Present: 2\n",
      "\n",
      "Employee Attendance Tracker\n",
      "1. Add Employee\n",
      "2. Add Attendance\n",
      "3. Generate Attendance Report\n",
      "4. Department-Wise Report\n",
      "5. Generate Attendance Graph\n",
      "6. Exit\n"
     ]
    },
    {
     "name": "stdin",
     "output_type": "stream",
     "text": [
      "Enter your choice:  5\n"
     ]
    },
    {
     "data": {
      "image/png": "[encoded data removed]",
      "text/plain": [
       "<Figure size 640x480 with 1 Axes>"
      ]
     },
     "metadata": {},
     "output_type": "display_data"
    },
    {
     "name": "stdout",
     "output_type": "stream",
     "text": [
      "\n",
      "Employee Attendance Tracker\n",
      "1. Add Employee\n",
      "2. Add Attendance\n",
      "3. Generate Attendance Report\n",
      "4. Department-Wise Report\n",
      "5. Generate Attendance Graph\n",
      "6. Exit\n"
     ]
    }
   ],
   "source": [
    "\n",
    "import csv\n",
    "import os\n",
    "from collections import defaultdict\n",
    "import matplotlib.pyplot as plt\n",
    "\n",
    "# File paths\n",
    "employee_file = 'employee.csv'\n",
    "attendance_file = 'attendance.csv'\n",
    "\n",
    "# Initialize system: Create files with headers if not already present\n",
    "def initialize_system():\n",
    "    if not os.path.exists(employee_file):\n",
    "        with open(employee_file, 'w', newline='') as file:\n",
    "            writer = csv.writer(file)\n",
    "            writer.writerow([\"ID\", \"Name\", \"Department\"])\n",
    "    if not os.path.exists(attendance_file):\n",
    "        with open(attendance_file, 'w', newline='') as file:\n",
    "            writer = csv.writer(file)\n",
    "            writer.writerow([\"Date\", \"EmployeeID\", \"Status\"])\n",
    "\n",
    "# Add a new employee\n",
    "def add_employee(emp_id, name, department):\n",
    "    try:\n",
    "        with open(employee_file, 'r') as file:\n",
    "            reader = csv.reader(file)\n",
    "            for row in reader:\n",
    "                if row[0] == emp_id:\n",
    "                    print(\"Employee already exists.\")\n",
    "                    return\n",
    "\n",
    "        with open(employee_file, 'a', newline='') as file:\n",
    "            writer = csv.writer(file)\n",
    "            writer.writerow([emp_id, name, department])\n",
    "            print(\"Employee added successfully.\")\n",
    "    except FileNotFoundError:\n",
    "        print(\"Employee file not found. Initializing system.\")\n",
    "        initialize_system()\n",
    "\n",
    "# Validate employee ID\n",
    "def validate_employee(emp_id):\n",
    "    try:\n",
    "        with open(employee_file, 'r') as file:\n",
    "            reader = csv.reader(file)\n",
    "            next(reader)  # Skip header\n",
    "            for row in reader:\n",
    "                if row[0] == emp_id:\n",
    "                    return True\n",
    "        return False\n",
    "    except FileNotFoundError:\n",
    "        print(\"Employee file not found.\")\n",
    "        return False\n",
    "\n",
    "# Add attendance record\n",
    "def add_attendance(date, emp_id, status):\n",
    "    if not validate_employee(emp_id):\n",
    "        print(\"Invalid Employee ID. Attendance not recorded.\")\n",
    "        return\n",
    "\n",
    "    try:\n",
    "        with open(attendance_file, 'r') as file:\n",
    "            reader = csv.reader(file)\n",
    "            for row in reader:\n",
    "                if row[0] == date and row[1] == emp_id:\n",
    "                    print(\"Duplicate record. Attendance not recorded.\")\n",
    "                    return\n",
    "\n",
    "        with open(attendance_file, 'a', newline='') as file:\n",
    "            writer = csv.writer(file)\n",
    "            writer.writerow([date, emp_id, status])\n",
    "            print(\"Attendance recorded successfully.\")\n",
    "    except FileNotFoundError:\n",
    "        print(\"Attendance file not found. Initializing system.\")\n",
    "        initialize_system()\n",
    "\n",
    "# Generate attendance report\n",
    "def generate_report():\n",
    "    try:\n",
    "        attendance_summary = defaultdict(int)\n",
    "        with open(attendance_file, 'r') as file:\n",
    "            reader = csv.reader(file)\n",
    "            next(reader)  # Skip header\n",
    "            for row in reader:\n",
    "                if len(row) >= 3 and row[2].lower() == 'present':\n",
    "                    attendance_summary[row[1]] += 1\n",
    "\n",
    "        if not attendance_summary:\n",
    "            print(\"No attendance data available.\")\n",
    "            return\n",
    "\n",
    "        print(\"\\nAttendance Report:\")\n",
    "        for emp_id, days_present in attendance_summary.items():\n",
    "            print(f\"Employee ID: {emp_id}, Total Days Present: {days_present}\")\n",
    "    except FileNotFoundError:\n",
    "        print(\"Attendance file not found.\")\n",
    "\n",
    "# Generate department-wise attendance report\n",
    "def department_report():\n",
    "    try:\n",
    "        with open(employee_file, 'r') as emp_file, open(attendance_file, 'r') as att_file:\n",
    "            emp_reader = csv.reader(emp_file)\n",
    "            att_reader = csv.reader(att_file)\n",
    "\n",
    "            next(emp_reader)  # Skip headers\n",
    "            next(att_reader)\n",
    "\n",
    "            emp_dict = {row[0]: row[2] for row in emp_reader}  # {ID: Department}\n",
    "            dept_summary = defaultdict(int)\n",
    "\n",
    "            for row in att_reader:\n",
    "                if len(row) >= 3 and row[2].lower() == 'present':\n",
    "                    emp_id = row[1]\n",
    "                    if emp_id in emp_dict:\n",
    "                        dept_summary[emp_dict[emp_id]] += 1\n",
    "\n",
    "        if not dept_summary:\n",
    "            print(\"No department-wise attendance data available.\")\n",
    "            return\n",
    "\n",
    "        print(\"\\nDepartment-Wise Attendance Report:\")\n",
    "        for dept, count in dept_summary.items():\n",
    "            print(f\"Department: {dept}, Total Days Present: {count}\")\n",
    "\n",
    "    except FileNotFoundError:\n",
    "        print(\"One or more files not found.\")\n",
    "\n",
    "# Generate attendance graph\n",
    "def generate_graph():\n",
    "    try:\n",
    "        attendance_summary = defaultdict(int)\n",
    "        with open(attendance_file, 'r') as file:\n",
    "            reader = csv.reader(file)\n",
    "            next(reader)  # Skip header\n",
    "            for row in reader:\n",
    "                if len(row) >= 3 and row[2].lower() == 'present':\n",
    "                    attendance_summary[row[1]] += 1\n",
    "\n",
    "        if not attendance_summary:\n",
    "            print(\"No attendance data available to generate a graph.\")\n",
    "            return\n",
    "\n",
    "        ids = list(attendance_summary.keys())\n",
    "        totals = list(attendance_summary.values())\n",
    "        plt.bar(ids, totals, color='skyblue')\n",
    "        plt.xlabel('Employee ID')\n",
    "        plt.ylabel('Days Present')\n",
    "        plt.title('Employee Attendance')\n",
    "        plt.show()\n",
    "    except FileNotFoundError:\n",
    "        print(\"Attendance file not found.\")\n",
    "\n",
    "# Main menu\n",
    "def main_menu():\n",
    "    initialize_system()\n",
    "    while True:\n",
    "        print(\"\\nEmployee Attendance Tracker\")\n",
    "        print(\"1. Add Employee\")\n",
    "        print(\"2. Add Attendance\")\n",
    "        print(\"3. Generate Attendance Report\")\n",
    "        print(\"4. Department-Wise Report\")\n",
    "        print(\"5. Generate Attendance Graph\")\n",
    "        print(\"6. Exit\")\n",
    "\n",
    "        choice = input(\"Enter your choice: \")\n",
    "\n",
    "        if choice == '1':\n",
    "            emp_id = input(\"Enter Employee ID: \")\n",
    "            name = input(\"Enter Name: \")\n",
    "            dept = input(\"Enter Department: \")\n",
    "            add_employee(emp_id, name, dept)\n",
    "\n",
    "        elif choice == '2':\n",
    "            date = input(\"Enter Date (YYYY-MM-DD): \")\n",
    "            emp_id = input(\"Enter Employee ID: \")\n",
    "            status = input(\"Enter Status (present/absent): \").lower()\n",
    "            add_attendance(date, emp_id, status)\n",
    "\n",
    "        elif choice == '3':\n",
    "            generate_report()\n",
    "\n",
    "        elif choice == '4':\n",
    "            department_report()\n",
    "\n",
    "        elif choice == '5':\n",
    "            generate_graph()\n",
    "\n",
    "        elif choice == '6':\n",
    "            print(\"Exiting program. Goodbye!\")\n",
    "            break\n",
    "\n",
    "        else:\n",
    "            print(\"Invalid choice. Please try again.\")\n",
    "\n",
    "# Run the program\n",
    "if __name__ == \"__main__\":\n",
    "    main_menu()\n"
   ]
  },
  {
   "cell_type": "code",
   "execution_count": null,
   "id": "bcf3454a-3d21-4cb2-b083-6b68eacaef43",
   "metadata": {},
   "outputs": [],
   "source": []
  }
 ],
 "metadata": {
  "kernelspec": {
   "display_name": "Python 3 (ipykernel)",
   "language": "python",
   "name": "python3"
  },
  "language_info": {
   "codemirror_mode": {
    "name": "ipython",
    "version": 3
   },
   "file_extension": ".py",
   "mimetype": "text/x-python",
   "name": "python",
   "nbconvert_exporter": "python",
   "pygments_lexer": "ipython3",
   "version": "3.12.4"
  }
 },
 "nbformat": 4,
 "nbformat_minor": 5
}
