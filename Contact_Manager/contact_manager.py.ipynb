{
 "cells": [
  {
   "cell_type": "code",
   "execution_count": 46,
   "id": "48afddd1-6554-4841-b298-7efd92d4542d",
   "metadata": {},
   "outputs": [],
   "source": [
    "import csv\n",
    "\n",
    "csv_file = \"contacts.csv\"\n",
    "\n",
    "\n",
    "def initialize_csv():\n",
    "    try:\n",
    "        with open(csv_file, mode='x', newline='', encoding='utf-8') as file:\n",
    "            writer = csv.writer(file)\n",
    "            writer.writerow([\"Name\", \"Phone\", \"Email\"])  # Headers\n",
    "    except FileExistsError:\n",
    "        pass  # Do nothing if the file already exists"
   ]
  },
  {
   "cell_type": "code",
   "execution_count": 48,
   "id": "f2759a69-d105-4452-b55b-1153129bf37b",
   "metadata": {},
   "outputs": [],
   "source": [
    "\n",
    "def add_contact(name, phone, email):\n",
    "    with open(csv_file, mode='a', newline='', encoding='utf-8') as file:\n",
    "        writer = csv.writer(file)\n",
    "        writer.writerow([name, phone, email])\n",
    "    print(f\"Contact {name} added successfully!\")"
   ]
  },
  {
   "cell_type": "code",
   "execution_count": 50,
   "id": "a9015474-2330-4db0-9aad-c01253aeef71",
   "metadata": {},
   "outputs": [],
   "source": [
    "\n",
    "def view_contacts():\n",
    "    with open(csv_file, mode='r', newline='', encoding='utf-8') as file:\n",
    "        reader = csv.reader(file)\n",
    "        rows = list(reader)  # Convert reader object to a list\n",
    "        if len(rows) <= 1:  \n",
    "            print(\"No contacts found. Add some contacts first!\")\n",
    "        else:\n",
    "            print(f\"\\n{'Name':<20}{'Phone':<15}{'Email'}\")  # Column headers\n",
    "            print(\"-\" * 50)\n",
    "            for row in rows[1:]:  \n",
    "                print(f\"{row[0]:<20}{row[1]:<15}{row[2]}\")\n"
   ]
  },
  {
   "cell_type": "code",
   "execution_count": 52,
   "id": "c9a77a1a-e0af-4be9-86fd-27baacc38042",
   "metadata": {},
   "outputs": [],
   "source": [
    "\n",
    "def search_contact(query):\n",
    "    found = False\n",
    "    with open(csv_file, mode='r', newline='', encoding='utf-8') as file:\n",
    "        reader = csv.DictReader(file)\n",
    "        for row in reader:\n",
    "            if query.lower() in row['Name'].lower() or query.lower() in row['Email'].lower():\n",
    "                print(row)\n",
    "                found = True\n",
    "    if not found:\n",
    "        print(\"No matching contact found.\")\n"
   ]
  },
  {
   "cell_type": "code",
   "execution_count": 54,
   "id": "d36c70da-7c94-40f3-81af-d5dd5032b0ed",
   "metadata": {},
   "outputs": [],
   "source": [
    "\n",
    "def update_contact(old_name, new_name, new_phone, new_email):\n",
    "    updated = False\n",
    "    rows = []\n",
    "    with open(csv_file, mode='r', newline='', encoding='utf-8') as file:\n",
    "        reader = csv.DictReader(file)\n",
    "        for row in reader:\n",
    "            if row['Name'].lower() == old_name.lower():\n",
    "                rows.append({\"Name\": new_name, \"Phone\": new_phone, \"Email\": new_email})\n",
    "                updated = True\n",
    "            else:\n",
    "                rows.append(row)\n",
    "\n",
    "    with open(csv_file, mode='w', newline='', encoding='utf-8') as file:\n",
    "        writer = csv.DictWriter(file, fieldnames=[\"Name\", \"Phone\", \"Email\"])\n",
    "        writer.writeheader()\n",
    "        writer.writerows(rows)\n",
    "\n",
    "    if updated:\n",
    "        print(f\"Contact {old_name} updated successfully!\")\n",
    "    else:\n",
    "        print(\"Contact not found.\")\n"
   ]
  },
  {
   "cell_type": "code",
   "execution_count": 56,
   "id": "94eabfd2-2a8e-4ea6-8a50-207d1712c704",
   "metadata": {},
   "outputs": [],
   "source": [
    "\n",
    "def delete_contact(name):\n",
    "    deleted = False\n",
    "    rows = []\n",
    "    with open(csv_file, mode='r', newline='', encoding='utf-8') as file:\n",
    "        reader = csv.DictReader(file)\n",
    "        for row in reader:\n",
    "            if row['Name'].lower() != name.lower():\n",
    "                rows.append(row)\n",
    "            else:\n",
    "                deleted = True\n",
    "\n",
    "    with open(csv_file, mode='w', newline='', encoding='utf-8') as file:\n",
    "        writer = csv.DictWriter(file, fieldnames=[\"Name\", \"Phone\", \"Email\"])\n",
    "        writer.writeheader()\n",
    "        writer.writerows(rows)\n",
    "\n",
    "    if deleted:\n",
    "        print(f\"Contact {name} deleted successfully!\")\n",
    "    else:\n",
    "        print(\"Contact not found.\")"
   ]
  },
  {
   "cell_type": "code",
   "execution_count": 65,
   "id": "560b739c-b58e-4378-9cd1-69be916ec4e0",
   "metadata": {},
   "outputs": [
    {
     "name": "stdout",
     "output_type": "stream",
     "text": [
      "\n",
      "Contact Manager\n",
      "1. Add Contact\n",
      "2. View Contacts\n",
      "3. Search Contact\n",
      "4. Update Contact\n",
      "5. Delete Contact\n",
      "6. Exit\n"
     ]
    },
    {
     "name": "stdin",
     "output_type": "stream",
     "text": [
      "Enter your choice:  2\n"
     ]
    },
    {
     "name": "stdout",
     "output_type": "stream",
     "text": [
      "\n",
      "Name                Phone          Email\n",
      "--------------------------------------------------\n",
      "Faseeh shah         0319-8765342   Faseehshah456@gmail.com\n",
      "\n",
      "Contact Manager\n",
      "1. Add Contact\n",
      "2. View Contacts\n",
      "3. Search Contact\n",
      "4. Update Contact\n",
      "5. Delete Contact\n",
      "6. Exit\n"
     ]
    },
    {
     "name": "stdin",
     "output_type": "stream",
     "text": [
      "Enter your choice:  5\n",
      "Enter the name of the contact to delete:  Faseeh shah \n"
     ]
    },
    {
     "name": "stdout",
     "output_type": "stream",
     "text": [
      "Contact Faseeh shah  deleted successfully!\n",
      "\n",
      "Contact Manager\n",
      "1. Add Contact\n",
      "2. View Contacts\n",
      "3. Search Contact\n",
      "4. Update Contact\n",
      "5. Delete Contact\n",
      "6. Exit\n"
     ]
    },
    {
     "name": "stdin",
     "output_type": "stream",
     "text": [
      "Enter your choice:  2\n"
     ]
    },
    {
     "name": "stdout",
     "output_type": "stream",
     "text": [
      "No contacts found. Add some contacts first!\n",
      "\n",
      "Contact Manager\n",
      "1. Add Contact\n",
      "2. View Contacts\n",
      "3. Search Contact\n",
      "4. Update Contact\n",
      "5. Delete Contact\n",
      "6. Exit\n"
     ]
    },
    {
     "name": "stdin",
     "output_type": "stream",
     "text": [
      "Enter your choice:  6\n"
     ]
    },
    {
     "name": "stdout",
     "output_type": "stream",
     "text": [
      "Exiting Contact Manager. Goodbye!\n"
     ]
    }
   ],
   "source": [
    "\n",
    "def main():\n",
    "    initialize_csv()\n",
    "    while True:\n",
    "        print(\"\\nContact Manager\")\n",
    "        print(\"1. Add Contact\")\n",
    "        print(\"2. View Contacts\")\n",
    "        print(\"3. Search Contact\")\n",
    "        print(\"4. Update Contact\")\n",
    "        print(\"5. Delete Contact\")\n",
    "        print(\"6. Exit\")\n",
    "\n",
    "        choice = input(\"Enter your choice: \")\n",
    "        if choice == '1':\n",
    "            name = input(\"Enter name: \")\n",
    "            phone = input(\"Enter phone: \")\n",
    "            email = input(\"Enter email: \")\n",
    "            add_contact(name, phone, email)\n",
    "        elif choice == '2':\n",
    "            view_contacts()\n",
    "        elif choice == '3':\n",
    "            query = input(\"Enter name or email to search: \")\n",
    "            search_contact(query)\n",
    "        elif choice == '4':\n",
    "            old_name = input(\"Enter the name of the contact to update: \")\n",
    "            new_name = input(\"Enter new name: \")\n",
    "            new_phone = input(\"Enter new phone: \")\n",
    "            new_email = input(\"Enter new email: \")\n",
    "            update_contact(old_name, new_name, new_phone, new_email)\n",
    "        elif choice == '5':\n",
    "            name = input(\"Enter the name of the contact to delete: \")\n",
    "            delete_contact(name)\n",
    "        elif choice == '6':\n",
    "            print(\"Exiting Contact Manager. Goodbye!\")\n",
    "            break\n",
    "        else:\n",
    "            print(\"Invalid choice. Please try again.\")\n",
    "\n",
    "if __name__ == \"__main__\":\n",
    "    main()\n"
   ]
  },
  {
   "cell_type": "code",
   "execution_count": null,
   "id": "894c9348-3478-4161-9d88-e88b4271538a",
   "metadata": {},
   "outputs": [],
   "source": []
  }
 ],
 "metadata": {
  "kernelspec": {
   "display_name": "Python 3 (ipykernel)",
   "language": "python",
   "name": "python3"
  },
  "language_info": {
   "codemirror_mode": {
    "name": "ipython",
    "version": 3
   },
   "file_extension": ".py",
   "mimetype": "text/x-python",
   "name": "python",
   "nbconvert_exporter": "python",
   "pygments_lexer": "ipython3",
   "version": "3.12.4"
  }
 },
 "nbformat": 4,
 "nbformat_minor": 5
}
